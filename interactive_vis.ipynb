{
 "cells": [
  {
   "cell_type": "code",
   "execution_count": 1,
   "metadata": {},
   "outputs": [],
   "source": [
    "import pandas as pd\n",
    "import os\n",
    "import matplotlib.pyplot as plt\n",
    "import cartopy\n",
    "import cartopy.io.shapereader as shpreader\n",
    "import cartopy.crs as ccrs\n",
    "import cartopy.feature as cfeature\n",
    "from ipywidgets import interact, interactive, fixed, interact_manual\n",
    "import ipywidgets as widgets\n",
    "from matplotlib.colors import Normalize"
   ]
  },
  {
   "cell_type": "code",
   "execution_count": 3,
   "metadata": {},
   "outputs": [],
   "source": [
    "countries = pd.read_csv(\"./countrycodes.csv\")\n",
    "african_countries = list(countries.loc[countries[\"region\"]==\"Africa\"][\"alpha-3\"])\n",
    "sahel_countries=[\"SEN\", \"MRT\", \"MLI\", \"BFA\", \"NER\", \"NGA\", \"TCD\", \"CAF\",\n",
    "                \"SDN\", \"ERI\", \"ETH\"]\n",
    "mappings = pd.read_csv(\"./config_never_change.csv\")\n",
    "indicators_to_id = mappings[[\"indicator\",\"ID\"]].dropna(subset=[\"ID\"]).set_index(\"indicator\").to_dict()[\"ID\"]"
   ]
  },
  {
   "cell_type": "code",
   "execution_count": 4,
   "metadata": {},
   "outputs": [],
   "source": [
    "indicators = list(indicators_to_id)"
   ]
  },
  {
   "cell_type": "code",
   "execution_count": 7,
   "metadata": {},
   "outputs": [],
   "source": [
    "def plot_ndvariables_africa(indicator):\n",
    "    plt.rcParams['figure.figsize'] = [20, 8]\n",
    "    num_simulations = 1000\n",
    "    year = '2018'\n",
    "    id_used = indicators_to_id[indicator].lower()\n",
    "    data = pd.read_csv(os.path.join(\"indicators\", id_used, \"score.csv\"), index_col=0).dropna()\n",
    "\n",
    "    # calculate simulations\n",
    "    mean_sim = []\n",
    "    num_african = len(african_countries)\n",
    "    for sim_num in range(num_simulations):\n",
    "        sub = data.sample(num_african)\n",
    "        mean = sub[year].mean()\n",
    "        mean_sim.append(mean)\n",
    "    mean_african = data.reindex(african_countries)[year].mean()\n",
    "    mean_sahel = data.reindex(sahel_countries)[year].mean()\n",
    "    \n",
    "    # plot simulations\n",
    "    plt.hist(mean_sim, label=\"Global distribution over 1000 simulations\")\n",
    "    plt.axvline(x=mean_african, linewidth=4, color='r', label=\"Pan-African mean\")\n",
    "    plt.axvline(x=mean_sahel, linewidth=4, color='b', label=\"Sahel mean\")\n",
    "    plt.legend()\n",
    "    plt.title(\"(2018) \" + indicator.title())\n",
    "    plt.show()\n",
    "    \n",
    "    # plot africa\n",
    "    crs = cartopy.crs.PlateCarree()\n",
    "    ax = plt.axes(projection=cartopy.crs.PlateCarree())\n",
    "    ax.add_feature(cartopy.feature.LAND)\n",
    "    ax.add_feature(cartopy.feature.OCEAN)\n",
    "    ax.add_feature(cartopy.feature.COASTLINE)\n",
    "    ax.add_feature(cartopy.feature.BORDERS, linestyle=':')\n",
    "    ax.set_extent([-20, 55, -33, 33])\n",
    "    shp = shpreader.natural_earth(resolution='10m',category='cultural',\n",
    "                                    name='admin_0_countries')\n",
    "    reader = shpreader.Reader(shp)\n",
    "    z = data.reindex(african_countries)[year].dropna()\n",
    "    norm = Normalize(vmin=min(z), vmax = max(z))\n",
    "    cmap = plt.cm.get_cmap(\"Reds\")\n",
    "    for country in shpreader.Reader(shp).records():\n",
    "        name = country.attributes['ISO_A3']\n",
    "        if name not in z: continue\n",
    "        val = z[name]\n",
    "        ax.add_geometries([country.geometry], crs,\n",
    "                    facecolor=cmap(norm(val)))\n",
    "    sm = plt.cm.ScalarMappable(cmap=cmap,norm=norm)\n",
    "    sm._A = []\n",
    "    plt.colorbar(sm,ax=ax)\n",
    "    plt.title(indicator.title() + \" (Pan-Africa)\")\n",
    "    plt.show()\n",
    "    \n",
    "    # plot sahel\n",
    "    ax = plt.axes(projection=cartopy.crs.PlateCarree())\n",
    "    ax.add_feature(cartopy.feature.LAND)\n",
    "    ax.add_feature(cartopy.feature.OCEAN)\n",
    "    ax.add_feature(cartopy.feature.COASTLINE)\n",
    "    ax.add_feature(cartopy.feature.BORDERS, linestyle=':')\n",
    "    ax.set_extent([-20, 45, 5, 25])\n",
    "    shp = shpreader.natural_earth(resolution='10m',category='cultural',\n",
    "                                    name='admin_0_countries')\n",
    "    reader = shpreader.Reader(shp)\n",
    "    z = data.reindex(african_countries)[year].dropna()\n",
    "    norm = Normalize(vmin=min(z), vmax = max(z))\n",
    "    cmap = plt.cm.get_cmap(\"Reds\")\n",
    "    for country in shpreader.Reader(shp).records():\n",
    "        name = country.attributes['ISO_A3']\n",
    "        if name not in z: continue\n",
    "        val = z[name]\n",
    "        ax.add_geometries([country.geometry], crs,\n",
    "                    facecolor=cmap(norm(val)))\n",
    "    sm = plt.cm.ScalarMappable(cmap=cmap,norm=norm)\n",
    "    sm._A = []\n",
    "    plt.colorbar(sm,ax=ax)\n",
    "    plt.title(indicator.title() + \" (Sahel)\")\n",
    "    plt.show()"
   ]
  },
  {
   "cell_type": "code",
   "execution_count": 8,
   "metadata": {},
   "outputs": [
    {
     "data": {
      "application/vnd.jupyter.widget-view+json": {
       "model_id": "2f82d4b01e4b4080819803a79a0f5a28",
       "version_major": 2,
       "version_minor": 0
      },
      "text/plain": [
       "interactive(children=(Dropdown(description='indicator', options=('projected change of cereal yields', 'project…"
      ]
     },
     "metadata": {},
     "output_type": "display_data"
    },
    {
     "data": {
      "text/plain": [
       "<function __main__.plot_ndvariables_africa>"
      ]
     },
     "execution_count": 8,
     "metadata": {},
     "output_type": "execute_result"
    }
   ],
   "source": [
    "interact(plot_ndvariables_africa, indicator=list(indicators_to_id))"
   ]
  },
  {
   "cell_type": "code",
   "execution_count": null,
   "metadata": {},
   "outputs": [],
   "source": []
  }
 ],
 "metadata": {
  "kernelspec": {
   "display_name": "Python 3",
   "language": "python",
   "name": "python3"
  },
  "language_info": {
   "codemirror_mode": {
    "name": "ipython",
    "version": 3
   },
   "file_extension": ".py",
   "mimetype": "text/x-python",
   "name": "python",
   "nbconvert_exporter": "python",
   "pygments_lexer": "ipython3",
   "version": "3.7.8"
  }
 },
 "nbformat": 4,
 "nbformat_minor": 4
}
